{
 "cells": [
  {
   "cell_type": "markdown",
   "metadata": {},
   "source": [
    "0 - Alphabet Rangoli"
   ]
  },
  {
   "cell_type": "code",
   "execution_count": 31,
   "metadata": {},
   "outputs": [
    {
     "name": "stdout",
     "output_type": "stream",
     "text": [
      "16\n",
      "------------------------------p------------------------------\n",
      "----------------------------p-o-p----------------------------\n",
      "--------------------------p-o-n-o-p--------------------------\n",
      "------------------------p-o-n-m-n-o-p------------------------\n",
      "----------------------p-o-n-m-l-m-n-o-p----------------------\n",
      "--------------------p-o-n-m-l-k-l-m-n-o-p--------------------\n",
      "------------------p-o-n-m-l-k-j-k-l-m-n-o-p------------------\n",
      "----------------p-o-n-m-l-k-j-i-j-k-l-m-n-o-p----------------\n",
      "--------------p-o-n-m-l-k-j-i-h-i-j-k-l-m-n-o-p--------------\n",
      "------------p-o-n-m-l-k-j-i-h-g-h-i-j-k-l-m-n-o-p------------\n",
      "----------p-o-n-m-l-k-j-i-h-g-f-g-h-i-j-k-l-m-n-o-p----------\n",
      "--------p-o-n-m-l-k-j-i-h-g-f-e-f-g-h-i-j-k-l-m-n-o-p--------\n",
      "------p-o-n-m-l-k-j-i-h-g-f-e-d-e-f-g-h-i-j-k-l-m-n-o-p------\n",
      "----p-o-n-m-l-k-j-i-h-g-f-e-d-c-d-e-f-g-h-i-j-k-l-m-n-o-p----\n",
      "--p-o-n-m-l-k-j-i-h-g-f-e-d-c-b-c-d-e-f-g-h-i-j-k-l-m-n-o-p--\n",
      "p-o-n-m-l-k-j-i-h-g-f-e-d-c-b-a-b-c-d-e-f-g-h-i-j-k-l-m-n-o-p\n",
      "--p-o-n-m-l-k-j-i-h-g-f-e-d-c-b-c-d-e-f-g-h-i-j-k-l-m-n-o-p--\n",
      "----p-o-n-m-l-k-j-i-h-g-f-e-d-c-d-e-f-g-h-i-j-k-l-m-n-o-p----\n",
      "------p-o-n-m-l-k-j-i-h-g-f-e-d-e-f-g-h-i-j-k-l-m-n-o-p------\n",
      "--------p-o-n-m-l-k-j-i-h-g-f-e-f-g-h-i-j-k-l-m-n-o-p--------\n",
      "----------p-o-n-m-l-k-j-i-h-g-f-g-h-i-j-k-l-m-n-o-p----------\n",
      "------------p-o-n-m-l-k-j-i-h-g-h-i-j-k-l-m-n-o-p------------\n",
      "--------------p-o-n-m-l-k-j-i-h-i-j-k-l-m-n-o-p--------------\n",
      "----------------p-o-n-m-l-k-j-i-j-k-l-m-n-o-p----------------\n",
      "------------------p-o-n-m-l-k-j-k-l-m-n-o-p------------------\n",
      "--------------------p-o-n-m-l-k-l-m-n-o-p--------------------\n",
      "----------------------p-o-n-m-l-m-n-o-p----------------------\n",
      "------------------------p-o-n-m-n-o-p------------------------\n",
      "--------------------------p-o-n-o-p--------------------------\n",
      "----------------------------p-o-p----------------------------\n",
      "------------------------------p------------------------------\n"
     ]
    }
   ],
   "source": [
    "def print_rangoli(size):\n",
    "    all_letters = [chr(ascii_code) for ascii_code in range(97, 97+26)]\n",
    "    lines = []\n",
    "    for i in range(1, size+1):\n",
    "        line_letters = list(reversed(all_letters[:size]))[:i]\n",
    "        line = f'{ \"-\".join(line_letters): >{(size-1)*2+1}}'\n",
    "        line = line.replace(\" \", \"-\")\n",
    "\n",
    "        q2 = \"\".join(reversed(line))[1:]\n",
    "\n",
    "        q1q2 = line + q2\n",
    "        lines.append(q1q2)\n",
    "\n",
    "    reverse_lines = list(reversed(lines))[1:]\n",
    "\n",
    "    for line in lines:\n",
    "        print(f'{line}')\n",
    "\n",
    "    for line in reverse_lines:\n",
    "        print(f'{line}')\n",
    "    \n",
    "\n",
    "if __name__ == '__main__':\n",
    "    n = int(input())\n",
    "    print_rangoli(n)"
   ]
  },
  {
   "cell_type": "markdown",
   "metadata": {},
   "source": [
    "1- Reduce function"
   ]
  },
  {
   "cell_type": "code",
   "execution_count": null,
   "metadata": {},
   "outputs": [],
   "source": [
    "from fractions import Fraction\n",
    "from functools import reduce\n",
    "\n",
    "def product(fracs):\n",
    "    t = reduce(lambda x,y: Fraction(x.numerator * y.numerator, x.denominator*y.denominator), fracs)\n",
    "    return t.numerator, t.denominator\n",
    "\n",
    "if __name__ == '__main__':\n",
    "    fracs = []\n",
    "    for _ in range(int(input())):\n",
    "        fracs.append(Fraction(*map(int, input().split())))\n",
    "    result = product(fracs)\n",
    "    print(*result)"
   ]
  },
  {
   "cell_type": "markdown",
   "metadata": {},
   "source": [
    "17 - Designer Doormat"
   ]
  },
  {
   "cell_type": "code",
   "execution_count": 32,
   "metadata": {},
   "outputs": [
    {
     "name": "stdout",
     "output_type": "stream",
     "text": [
      "14 42\n",
      "-------------------.|.--------------------\n",
      "----------------.|..|..|.-----------------\n",
      "-------------.|..|..|..|..|.--------------\n",
      "----------.|..|..|..|..|..|..|.-----------\n",
      "-------.|..|..|..|..|..|..|..|..|.--------\n",
      "----.|..|..|..|..|..|..|..|..|..|..|.-----\n",
      "-.|..|..|..|..|..|..|..|..|..|..|..|..|.--\n",
      "-----------------WELCOME------------------\n",
      "-.|..|..|..|..|..|..|..|..|..|..|..|..|.--\n",
      "----.|..|..|..|..|..|..|..|..|..|..|.-----\n",
      "-------.|..|..|..|..|..|..|..|..|.--------\n",
      "----------.|..|..|..|..|..|..|.-----------\n",
      "-------------.|..|..|..|..|.--------------\n",
      "----------------.|..|..|.-----------------\n",
      "-------------------.|.--------------------\n"
     ]
    }
   ],
   "source": [
    "NM = input().split(\" \")\n",
    "N =  int(NM[0])\n",
    "M = int(NM[1])\n",
    "\n",
    "mat_lines = []\n",
    "for i in range(1, int(N/2)+1):\n",
    "    decos = [ \".|.\" for k in range(i)]\n",
    "    line = \"\".join(decos)\n",
    "    line = f'{line :>{int(M/2)}}'\n",
    "    line = line + \"\".join(list(reversed(line))[3:])\n",
    "    line = f'{line : ^{M}}'\n",
    "    line = line.replace(\" \", \"-\")\n",
    "    mat_lines.append(line)\n",
    "    \n",
    "reverse_mat_lines = reversed(mat_lines)\n",
    "    \n",
    "center_line = f'{\"WELCOME\" : ^{M}}'\n",
    "center_line = center_line.replace(\" \", \"-\")\n",
    "\n",
    "mat_lines.append(center_line)\n",
    "mat_lines.extend(reverse_mat_lines)\n",
    "\n",
    "for line in mat_lines:\n",
    "    print(line)"
   ]
  },
  {
   "cell_type": "markdown",
   "metadata": {},
   "source": [
    "2- Leap year"
   ]
  },
  {
   "cell_type": "code",
   "execution_count": null,
   "metadata": {},
   "outputs": [],
   "source": [
    "def is_leap(year):\n",
    "    leap = (year%4==0 and year%100!=0) or (year%4==0 and year%100==0 and year%400==0)\n",
    "    \n",
    "    return leap\n",
    "\n",
    "year = int(input())\n",
    "print(is_leap(year))"
   ]
  },
  {
   "cell_type": "markdown",
   "metadata": {},
   "source": [
    "3- Find the Runner-up score!"
   ]
  },
  {
   "cell_type": "code",
   "execution_count": null,
   "metadata": {},
   "outputs": [],
   "source": [
    "if __name__ == '__main__':\n",
    "    records = []\n",
    "    for _ in range(int(input())):\n",
    "        name = input()\n",
    "        score = float(input())\n",
    "        \n",
    "        records.append([name, score])\n",
    "    \n",
    "    second_lowest_score = sorted(set([record[1] for record in records]))[1]\n",
    "    students = [record[0] for record in records if record[1] == second_lowest_score]\n",
    "    for student in sorted(students):\n",
    "        print(student)"
   ]
  },
  {
   "cell_type": "markdown",
   "metadata": {},
   "source": [
    "4 -Triangle Quest"
   ]
  },
  {
   "cell_type": "code",
   "execution_count": null,
   "metadata": {},
   "outputs": [],
   "source": [
    "for i in range(1,int(input())):\n",
    "    print(i*round(0.111111111*pow(10, i)))"
   ]
  },
  {
   "cell_type": "markdown",
   "metadata": {},
   "source": [
    "5 -Integers come in all sizes"
   ]
  },
  {
   "cell_type": "code",
   "execution_count": null,
   "metadata": {},
   "outputs": [],
   "source": [
    "a = int(input())\n",
    "b = int(input())\n",
    "c = int(input())\n",
    "d = int(input())\n",
    "\n",
    "print(pow(a,b)+pow(c,d))"
   ]
  },
  {
   "cell_type": "markdown",
   "metadata": {},
   "source": [
    "6- Power - Mod power"
   ]
  },
  {
   "cell_type": "code",
   "execution_count": null,
   "metadata": {},
   "outputs": [],
   "source": [
    "a = int(input())\n",
    "b = int(input())\n",
    "m = int(input())\n",
    "\n",
    "print(pow(a,b))\n",
    "print(pow(a,b,m))"
   ]
  },
  {
   "cell_type": "markdown",
   "metadata": {},
   "source": [
    "7- Itertools combinations with replacements"
   ]
  },
  {
   "cell_type": "code",
   "execution_count": null,
   "metadata": {},
   "outputs": [],
   "source": [
    "import itertools\n",
    "\n",
    "inp = input().split(\" \")\n",
    "string = sorted(list(inp[0]))\n",
    "length = int(inp[1])\n",
    "\n",
    "combos =  list(itertools.combinations_with_replacement(string,length))\n",
    "\n",
    "for combo in combos:\n",
    "    print(\"\".join(list(combo)))"
   ]
  },
  {
   "cell_type": "markdown",
   "metadata": {},
   "source": [
    "8- Itertools - combinations"
   ]
  },
  {
   "cell_type": "code",
   "execution_count": null,
   "metadata": {},
   "outputs": [],
   "source": [
    "import itertools\n",
    "\n",
    "inp = input().split(\" \")\n",
    "string = sorted(list(inp[0]))\n",
    "length = int(inp[1])\n",
    "\n",
    "combos = []\n",
    "for length_i in range(1,length+1):\n",
    "    my_combos =  list(itertools.combinations(string, length_i))\n",
    "    combos.extend(my_combos)\n",
    "\n",
    "for combo in combos:\n",
    "    print(\"\".join(list(combo)))"
   ]
  },
  {
   "cell_type": "markdown",
   "metadata": {},
   "source": [
    "9- Symmetric difference"
   ]
  },
  {
   "cell_type": "code",
   "execution_count": null,
   "metadata": {},
   "outputs": [],
   "source": [
    "M = int(input())\n",
    "M_vals = map(int, input().split(\" \"))\n",
    "N = int(input())\n",
    "N_vals = map(int, input().split(\" \"))\n",
    "\n",
    "Mset = set(M_vals)\n",
    "Nset = set(N_vals)\n",
    "\n",
    "\n",
    "Mres = Mset.difference(Nset)\n",
    "Nres = Nset.difference(Mset)\n",
    "\n",
    "union = sorted(Mres.union(Nres))\n",
    "for val in union:\n",
    "    print(val)"
   ]
  },
  {
   "cell_type": "markdown",
   "metadata": {},
   "source": [
    "10- No Idea!"
   ]
  },
  {
   "cell_type": "code",
   "execution_count": null,
   "metadata": {},
   "outputs": [],
   "source": [
    "nm = map(int, input().split())\n",
    "nset = list(map(int, input().split()))\n",
    "Aset = set(map(int, input().split()))\n",
    "Bset = set(map(int, input().split()))\n",
    "\n",
    "happyset = [n for n in nset if n in Aset]\n",
    "sadset = [k for k in nset if k in Bset]\n",
    "print(len(happyset) - len(sadset))"
   ]
  },
  {
   "cell_type": "markdown",
   "metadata": {},
   "source": [
    "11- Introduction to sets"
   ]
  },
  {
   "cell_type": "code",
   "execution_count": null,
   "metadata": {},
   "outputs": [],
   "source": [
    "def average(array):\n",
    "    return round(sum(set(array))/len(set(array)),3)\n",
    "\n",
    "if __name__ == '__main__':\n",
    "    n = int(input())\n",
    "    arr = list(map(int, input().split()))\n",
    "    result = average(arr)\n",
    "    print(result)"
   ]
  },
  {
   "cell_type": "markdown",
   "metadata": {},
   "source": [
    "12- Itertools - permutations"
   ]
  },
  {
   "cell_type": "code",
   "execution_count": null,
   "metadata": {},
   "outputs": [],
   "source": [
    "import itertools\n",
    "\n",
    "inp = input().split(\" \")\n",
    "string = sorted(list(inp[0]))\n",
    "length = int(inp[1])\n",
    "\n",
    "for perm in list(itertools.permutations(string, length)):\n",
    "    print(\"\".join(list(perm)))"
   ]
  },
  {
   "cell_type": "markdown",
   "metadata": {},
   "source": [
    "13- Collections Counter"
   ]
  },
  {
   "cell_type": "code",
   "execution_count": null,
   "metadata": {},
   "outputs": [],
   "source": [
    "import collections\n",
    "\n",
    "X = int(input())\n",
    "available_shoes = list(map(int,input().split(\" \")))\n",
    "N = int(input())\n",
    "\n",
    "earning = 0\n",
    "for _ in range(N):\n",
    "    shoe_counter = collections.Counter(available_shoes)\n",
    "    size_price = list(map(int,input().split(\" \")))\n",
    "    if size_price[0] in shoe_counter.keys() :\n",
    "        earning+=size_price[1]\n",
    "        available_shoes.remove(size_price[0])\n",
    "        \n",
    "print(earning)"
   ]
  },
  {
   "cell_type": "markdown",
   "metadata": {},
   "source": [
    "14 - itertools.product"
   ]
  },
  {
   "cell_type": "code",
   "execution_count": null,
   "metadata": {},
   "outputs": [],
   "source": [
    "import itertools\n",
    "\n",
    "ab = input()\n",
    "ab = ab.split(\" \")\n",
    "ab = [int(k)  for k in ab]\n",
    "\n",
    "cd = input()\n",
    "cd = cd.split(\" \")\n",
    "cd = [int(k)  for k in cd]\n",
    "\n",
    "print(*list(itertools.product(ab, cd)))"
   ]
  },
  {
   "cell_type": "markdown",
   "metadata": {},
   "source": [
    "15 - Capitalize"
   ]
  },
  {
   "cell_type": "code",
   "execution_count": null,
   "metadata": {},
   "outputs": [],
   "source": [
    "#!/bin/python3\n",
    "\n",
    "import math\n",
    "import os\n",
    "import random\n",
    "import re\n",
    "import sys\n",
    "\n",
    "# Complete the solve function below.\n",
    "import re\n",
    "def solve(s):\n",
    "    words = re.split(r'(\\s+)', s)\n",
    "    capitalized = []\n",
    "    for word in words:\n",
    "        capitalized.append(word[0].upper()+word[1:])\n",
    "                          \n",
    "    return ''.join(capitalized)\n",
    "\n",
    "\n",
    "if __name__ == '__main__':\n",
    "    fptr = open(os.environ['OUTPUT_PATH'], 'w')\n",
    "\n",
    "    s = input()\n",
    "\n",
    "    result = solve(s)\n",
    "\n",
    "    fptr.write(result + '\\n')\n",
    "\n",
    "    fptr.close()"
   ]
  },
  {
   "cell_type": "markdown",
   "metadata": {},
   "source": [
    "16 - String formatting"
   ]
  },
  {
   "cell_type": "code",
   "execution_count": null,
   "metadata": {},
   "outputs": [],
   "source": [
    "def print_formatted(number):\n",
    "    space = len(str(bin(number)).replace('0b', ''))\n",
    "    for n in range(1,number+1):\n",
    "        print(f\"{str(n) : >{space}} {str(oct(n)).replace('0o','') : >{space}}  {'0x{:X}'.format(n).replace('0x', '') :>{space-1}} {str(bin(n)).replace('0b', '') :>{space}}\")\n",
    "\n",
    "\n",
    "if __name__ == '__main__':\n",
    "    n = int(input())\n",
    "    print_formatted(n)"
   ]
  },
  {
   "cell_type": "markdown",
   "metadata": {},
   "source": [
    "18 - Text Wrap"
   ]
  },
  {
   "cell_type": "code",
   "execution_count": null,
   "metadata": {},
   "outputs": [],
   "source": [
    "import textwrap\n",
    "\n",
    "def wrap(string, max_width):\n",
    "    split_count = int((len(string) - len(string)%max_width)/max_width)\n",
    "    substrings =[string[int(k*max_width):int((k+1)*max_width)]\n",
    "     for k in range(split_count)]\n",
    "    if len(string)%max_width > 0:\n",
    "        substrings.append(string[int(split_count*max_width):])\n",
    "    return '\\n'.join(substrings)\n",
    "\n",
    "if __name__ == '__main__':\n",
    "    string, max_width = input(), int(input())\n",
    "    result = wrap(string, max_width)\n",
    "    print(result)"
   ]
  },
  {
   "cell_type": "markdown",
   "metadata": {},
   "source": [
    "19 - String validation"
   ]
  },
  {
   "cell_type": "code",
   "execution_count": null,
   "metadata": {},
   "outputs": [],
   "source": [
    "if __name__ == '__main__':\n",
    "    s = input()\n",
    "    print(len([char for char in s if char.isalnum()])>0)\n",
    "    print(len([char for char in s if char.isalpha()])>0)\n",
    "    print(len([char for char in s if char.isdigit()])>0)\n",
    "    print(len([char for char in s if char.islower()])>0)\n",
    "    print(len([char for char in s if char.isupper()])>0)"
   ]
  },
  {
   "cell_type": "markdown",
   "metadata": {},
   "source": [
    "20- Find a string"
   ]
  },
  {
   "cell_type": "code",
   "execution_count": null,
   "metadata": {},
   "outputs": [],
   "source": [
    "def count_substring(string, sub_string):\n",
    "    ct = 0\n",
    "    for i in range(len(string)):\n",
    "        if sub_string == string[i:i+len(sub_string)]:\n",
    "            ct += 1\n",
    "    return ct\n",
    "if __name__ == '__main__':\n",
    "    string = input().strip()\n",
    "    sub_string = input().strip()\n",
    "    \n",
    "    count = count_substring(string, sub_string)\n",
    "    print(count)"
   ]
  },
  {
   "cell_type": "markdown",
   "metadata": {},
   "source": [
    "21- Mutations"
   ]
  },
  {
   "cell_type": "code",
   "execution_count": null,
   "metadata": {},
   "outputs": [],
   "source": [
    "def mutate_string(string, position, character):\n",
    "    result = list(string)\n",
    "    result[position] = character\n",
    "    \n",
    "    return ''.join(result)\n",
    "\n",
    "if __name__ == '__main__':\n",
    "    s = input()\n",
    "    i, c = input().split()\n",
    "    s_new = mutate_string(s, int(i), c)\n",
    "    print(s_new)"
   ]
  },
  {
   "cell_type": "markdown",
   "metadata": {},
   "source": [
    "22- Whats Your Name.?"
   ]
  },
  {
   "cell_type": "code",
   "execution_count": null,
   "metadata": {},
   "outputs": [],
   "source": [
    "#\n",
    "# Complete the 'print_full_name' function below.\n",
    "#\n",
    "# The function is expected to return a STRING.\n",
    "# The function accepts following parameters:\n",
    "#  1. STRING first\n",
    "#  2. STRING last\n",
    "#\n",
    "\n",
    "def print_full_name(first, last):\n",
    "    # Write your code here\n",
    "    print('Hello',f'{first} {last}! You just delved into python.')\n",
    "\n",
    "if __name__ == '__main__':\n",
    "    first_name = input()\n",
    "    last_name = input()\n",
    "    print_full_name(first_name, last_name)"
   ]
  },
  {
   "cell_type": "markdown",
   "metadata": {},
   "source": [
    "23- String split and join"
   ]
  },
  {
   "cell_type": "code",
   "execution_count": null,
   "metadata": {},
   "outputs": [],
   "source": [
    "def split_and_join(line):\n",
    "    # write your code here\n",
    "    return \"-\".join(line.split(\" \"))\n",
    "\n",
    "if __name__ == '__main__':\n",
    "    line = input()\n",
    "    result = split_and_join(line)\n",
    "    print(result)\n"
   ]
  },
  {
   "cell_type": "markdown",
   "metadata": {},
   "source": [
    "24- sWAP cASE"
   ]
  },
  {
   "cell_type": "code",
   "execution_count": null,
   "metadata": {},
   "outputs": [],
   "source": [
    "def swap_case(s):\n",
    "    result = \"\"\n",
    "    for char in s:\n",
    "        ascii_value = ord(char)\n",
    "        if ascii_value >= 65 and ascii_value <= 90:\n",
    "            result  += chr(ascii_value + 32)\n",
    "        elif ascii_value >= 97 and ascii_value <= 122:\n",
    "            result  += chr(ascii_value - 32)\n",
    "        else:\n",
    "            result +=char\n",
    "    return result\n",
    "\n",
    "if __name__ == '__main__':\n",
    "    s = input()\n",
    "    result = swap_case(s)\n",
    "    print(result)"
   ]
  },
  {
   "cell_type": "markdown",
   "metadata": {},
   "source": [
    "25- Tuples"
   ]
  },
  {
   "cell_type": "code",
   "execution_count": null,
   "metadata": {},
   "outputs": [],
   "source": [
    "if __name__ == '__main__':\n",
    "    n = int(input())\n",
    "    integer_list = map(int, input().split())\n",
    "    t = tuple([k for k in integer_list])\n",
    "    print(hash(t))"
   ]
  },
  {
   "cell_type": "markdown",
   "metadata": {},
   "source": [
    "26- List"
   ]
  },
  {
   "cell_type": "code",
   "execution_count": null,
   "metadata": {},
   "outputs": [],
   "source": [
    "if __name__ == '__main__':\n",
    "    N = int(input())\n",
    "    my_list = []\n",
    "    for _ in range(N):\n",
    "        command = input().split()\n",
    "        \n",
    "        if command[0] == \"insert\":\n",
    "            my_list.insert(int(command[1]), int(command[2]))\n",
    "        if command[0] == \"print\":\n",
    "            print(my_list)\n",
    "        if command[0] == \"remove\":\n",
    "            my_list.remove(int(command[1]))\n",
    "        if command[0] == \"append\":\n",
    "            my_list.append(int(command[1]))\n",
    "        if command[0] == \"sort\":\n",
    "            my_list = sorted(my_list)\n",
    "        if command[0] == \"pop\":\n",
    "            my_list.pop()\n",
    "        if command[0] == \"reverse\":\n",
    "            my_list.reverse()"
   ]
  },
  {
   "cell_type": "markdown",
   "metadata": {},
   "source": [
    "27- Finding the percentage"
   ]
  },
  {
   "cell_type": "code",
   "execution_count": null,
   "metadata": {},
   "outputs": [],
   "source": [
    "if __name__ == '__main__':\n",
    "    n = int(input())\n",
    "    student_marks = {}\n",
    "    for _ in range(n):\n",
    "        name, *line = input().split()\n",
    "        scores = list(map(float, line))\n",
    "        student_marks[name] = scores\n",
    "    query_name = input()\n",
    "    \n",
    "    marks = student_marks[query_name]\n",
    "    percentage = round(sum(marks)/len(marks), 2)\n",
    "    print(f'{percentage:.2f}')"
   ]
  },
  {
   "cell_type": "markdown",
   "metadata": {},
   "source": [
    "28- Nested Lists"
   ]
  },
  {
   "cell_type": "code",
   "execution_count": null,
   "metadata": {},
   "outputs": [],
   "source": [
    "if __name__ == '__main__':\n",
    "    records = []\n",
    "    for _ in range(int(input())):\n",
    "        name = input()\n",
    "        score = float(input())\n",
    "        \n",
    "        records.append([name, score])\n",
    "    \n",
    "    second_lowest_score = sorted(set([record[1] for record in records]))[1]\n",
    "    students = [record[0] for record in records if record[1] == second_lowest_score]\n",
    "    for student in sorted(students):\n",
    "        print(student)"
   ]
  },
  {
   "cell_type": "markdown",
   "metadata": {},
   "source": [
    "29- Find the Runner-up score!"
   ]
  },
  {
   "cell_type": "code",
   "execution_count": null,
   "metadata": {},
   "outputs": [],
   "source": [
    "if __name__ == '__main__':\n",
    "    n = int(input())\n",
    "    arr = map(int, input().split())\n",
    "    \n",
    "    arr = set(arr)\n",
    "    sorted_arr = sorted(list(arr), reverse=True)\n",
    "    print(sorted_arr[1])"
   ]
  },
  {
   "cell_type": "markdown",
   "metadata": {},
   "source": [
    "30- List comprehension"
   ]
  },
  {
   "cell_type": "code",
   "execution_count": null,
   "metadata": {},
   "outputs": [],
   "source": [
    "if __name__ == '__main__':\n",
    "    x = int(input())\n",
    "    y = int(input())\n",
    "    z = int(input())\n",
    "    n = int(input())\n",
    "    \n",
    "    ijks = [[i,j,k] for i in range(0,x+1) for j in range(0,y+1)  for k in range(0,z+1)]\n",
    "    result = [ijk for ijk in ijks if ijk[0] + ijk[1] + ijk[2] != n]\n",
    "    print(result)\n"
   ]
  },
  {
   "cell_type": "markdown",
   "metadata": {},
   "source": [
    "31- Print function"
   ]
  },
  {
   "cell_type": "code",
   "execution_count": null,
   "metadata": {},
   "outputs": [],
   "source": [
    "if __name__ == '__main__':\n",
    "    n = int(input())\n",
    "    strs = map(str, [k for k in range(1, n+1)])\n",
    "    print(\"\".join(strs))"
   ]
  },
  {
   "cell_type": "markdown",
   "metadata": {},
   "source": [
    "32- Write a function"
   ]
  },
  {
   "cell_type": "code",
   "execution_count": null,
   "metadata": {},
   "outputs": [],
   "source": [
    "def is_leap(year):\n",
    "    leap = (year%4==0 and year%100!=0) or (year%4==0 and year%100==0 and year%400==0)\n",
    "    \n",
    "    return leap\n",
    "\n",
    "year = int(input())\n",
    "print(is_leap(year))"
   ]
  },
  {
   "cell_type": "markdown",
   "metadata": {},
   "source": [
    "33- Loops"
   ]
  },
  {
   "cell_type": "code",
   "execution_count": null,
   "metadata": {},
   "outputs": [],
   "source": [
    "if __name__ == '__main__':\n",
    "    n = int(input())\n",
    "    squares = [k*k for k in range(n)]\n",
    "    for s in squares:\n",
    "        print(s)"
   ]
  },
  {
   "cell_type": "markdown",
   "metadata": {},
   "source": [
    "34 - Python Division"
   ]
  },
  {
   "cell_type": "code",
   "execution_count": null,
   "metadata": {},
   "outputs": [],
   "source": [
    "if __name__ == '__main__':\n",
    "    a = int(input())\n",
    "    b = int(input())\n",
    "    \n",
    "    print(int(a/b))\n",
    "    print(float(a/b))"
   ]
  },
  {
   "cell_type": "markdown",
   "metadata": {},
   "source": [
    "35- Arithmatic Operations"
   ]
  },
  {
   "cell_type": "code",
   "execution_count": null,
   "metadata": {},
   "outputs": [],
   "source": [
    "if __name__ == '__main__':\n",
    "    a = int(input())\n",
    "    b = int(input())\n",
    "    \n",
    "    print(a+b)\n",
    "    print(a-b)\n",
    "    print(a*b)"
   ]
  },
  {
   "cell_type": "markdown",
   "metadata": {},
   "source": [
    "36- Python if-else"
   ]
  },
  {
   "cell_type": "code",
   "execution_count": null,
   "metadata": {},
   "outputs": [],
   "source": [
    "if __name__ == '__main__':\n",
    "    n = int(input().strip())\n",
    "    \n",
    "    #If  is odd, print Weird\n",
    "    if n%2==1:\n",
    "        print(\"Weird\")\n",
    "    elif n%2==0 and n>=2 and n<=5:\n",
    "        print(\"Not Weird\")\n",
    "    elif n%2==0 and n>=6 and n<=20:\n",
    "        print(\"Weird\")\n",
    "    elif n%2==0 and n>20:\n",
    "        print(\"Not Weird\")"
   ]
  },
  {
   "cell_type": "markdown",
   "metadata": {},
   "source": [
    "37- Say Hello with Python"
   ]
  },
  {
   "cell_type": "code",
   "execution_count": null,
   "metadata": {},
   "outputs": [],
   "source": [
    "if __name__ == '__main__':\n",
    "    print(\"Hello, World!\")"
   ]
  }
 ],
 "metadata": {
  "kernelspec": {
   "display_name": "Python 3",
   "language": "python",
   "name": "python3"
  },
  "language_info": {
   "codemirror_mode": {
    "name": "ipython",
    "version": 3
   },
   "file_extension": ".py",
   "mimetype": "text/x-python",
   "name": "python",
   "nbconvert_exporter": "python",
   "pygments_lexer": "ipython3",
   "version": "3.7.6"
  }
 },
 "nbformat": 4,
 "nbformat_minor": 5
}
